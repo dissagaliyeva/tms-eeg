{
 "cells": [
  {
   "cell_type": "markdown",
   "metadata": {},
   "source": [
    "# Breaking down the code piece by piece\n",
    "\n",
    "\n",
    "### Input data\n",
    "\n",
    "- individual structural connectome (required)\n",
    "- parcellations using 200 Schaefer's atlas (not necessary for running the model, only for final visualizations)\n",
    "\n",
    "\n",
    "**Unchanged**:\n",
    "- sc_file -> 200 Schaefer's atlas 7 network count\n",
    "- dist_file -> 200 Schaefer's atlas 7 network distances\n",
    "\n",
    "\n",
    "**Need to do**\n",
    "- file_eeg -> empirical TMS-EEG TEP using [Griffith's paper](https://www.biorxiv.org/content/10.1101/2022.05.19.492664v1.full)\n",
    "\n",
    "\n",
    "\n",
    "\n",
    "### Preprocessing steps\n",
    "\n",
    "- Biabani, et al [Characterizing and minimizing the contribution of sensory inputs to tms-evoked potentials](https://sci-hub.se/10.1016/j.brs.2019.07.009)\n",
    "\n",
    "\n",
    "### Paper's approach\n",
    "\n",
    "1. fit a connectome-based model to individual subject TEP data to achieve accurate replication of the measured channel- and source-level TMS EEG patterns. \n",
    "2. introduce a series of spatially and temporally specific 'virtual lesions' by setting to zero weights of all connections leaving from and returning to the primary stimulation site at specific times. This isolates the TMS-stimulated region from the rest of the brain. \n",
    "\n",
    "\n",
    "### Jansen-Rit Model\n",
    "\n",
    "\n",
    "### RNN model"
   ]
  },
  {
   "cell_type": "code",
   "execution_count": null,
   "metadata": {},
   "outputs": [],
   "source": []
  },
  {
   "cell_type": "code",
   "execution_count": null,
   "metadata": {},
   "outputs": [],
   "source": []
  },
  {
   "cell_type": "code",
   "execution_count": null,
   "metadata": {},
   "outputs": [],
   "source": []
  }
 ],
 "metadata": {
  "kernelspec": {
   "display_name": "Python 3 (ipykernel)",
   "language": "python",
   "name": "python3"
  },
  "language_info": {
   "codemirror_mode": {
    "name": "ipython",
    "version": 3
   },
   "file_extension": ".py",
   "mimetype": "text/x-python",
   "name": "python",
   "nbconvert_exporter": "python",
   "pygments_lexer": "ipython3",
   "version": "3.9.12"
  }
 },
 "nbformat": 4,
 "nbformat_minor": 2
}
